{
 "cells": [
  {
   "cell_type": "code",
   "execution_count": null,
   "metadata": {},
   "outputs": [
    {
     "ename": "",
     "evalue": "",
     "output_type": "error",
     "traceback": [
      "\u001b[1;31mThe Kernel crashed while executing code in the current cell or a previous cell. \n",
      "\u001b[1;31mPlease review the code in the cell(s) to identify a possible cause of the failure. \n",
      "\u001b[1;31mClick <a href='https://aka.ms/vscodeJupyterKernelCrash'>here</a> for more info. \n",
      "\u001b[1;31mView Jupyter <a href='command:jupyter.viewOutput'>log</a> for further details."
     ]
    }
   ],
   "source": [
    "import numpy as np\n",
    "import pandas as pd\n",
    "import matplotlib.pyplot as plt\n",
    "import seaborn as sns"
   ]
  },
  {
   "cell_type": "markdown",
   "metadata": {},
   "source": [
    "# Number 4\n",
    "4(a)\n",
    "Multiplying a 5x3 matrix by a 3x2 matrix\n",
    "A random 5x3 matrix and a 3x2 matrix is created, and multiplied(in code we'll use the dot numpy function to follow the rules of real matrix product). However on multiplication the result will be a 5x2 matrix.\n",
    "On multiplication: \n",
    "-The first row of the 5x2 (result) matrix is obtained by multiplying the\n",
    "1st row of the 5x3 matrix with the 1st & 2nd column of the 3x2 matrix.\n",
    "-The second, third, fourth and fifth rows of the result matrix are obtained the same way.\n",
    "(Source: Matrix multiplication from matrix algebra notes from Ms. Brenda.)"
   ]
  },
  {
   "cell_type": "code",
   "execution_count": null,
   "metadata": {},
   "outputs": [],
   "source": [
    "# In form of code.\n",
    "# creating random matrice\n",
    "matrix_1 = np.random.rand(5, 3) \n",
    "matrix_2 = np.random.rand(3, 2)\n",
    "# (Source; https://stackoverflow.com/a/61244353/28757296)\n",
    "\n",
    "# Multiplying the matrices\n",
    "result = np.dot(matrix_1, matrix_2)\n",
    "# (Source: https://www.digitalocean.com/community/tutorials/numpy-matrix-multiplication#3-dot-product-of-two-numpy-arrays)\n",
    "\n",
    "print(f\"The result matrix is: \\n {result}\")"
   ]
  },
  {
   "cell_type": "markdown",
   "metadata": {},
   "source": [
    "4(b)\n",
    "Creating a 3x3 identity matrix\n",
    "This will be a square matrix with 3 rows and 3 columns, whose all diagonal elements are equal to 1 and rest all elements are zero.\n",
    "(Source: https://www.geeksforgeeks.org/identity-matrix/)"
   ]
  },
  {
   "cell_type": "code",
   "execution_count": null,
   "metadata": {},
   "outputs": [],
   "source": [
    "# creating the identity matrix\n",
    "identity_matrix = np.identity(3) # The number in brackets shows the number of rows and columns, both equal in square matrices.\n",
    "print(identity_matrix)"
   ]
  },
  {
   "cell_type": "markdown",
   "metadata": {},
   "source": [
    "4(c)\n",
    "Creating a vector with values ranging from 10 to 49\n",
    "A vector is an array with values in 1 row and n number of columns or n number of rows and one column. Their values are ususally displayed in forn of lists.\n",
    "(Source: https://stackoverflow.com/a/54065919/28757296) "
   ]
  },
  {
   "cell_type": "code",
   "execution_count": null,
   "metadata": {},
   "outputs": [],
   "source": [
    "# The vector is represented using the arange function\n",
    "vector = np.arange(10, 50)\n",
    "#The stop value is 50 beacause in the arange function, the stop value is not inclusive \n",
    "print(vector)\n",
    "# (Source: https://realpython.com/how-to-use-numpy-arange/)"
   ]
  },
  {
   "cell_type": "markdown",
   "metadata": {},
   "source": [
    "4(d)\n",
    "Creating a null vector of size 10\n",
    "A null vector is a vector in which all values are zero.\n",
    "If it is of size ten, then it will have 10 zeros.\n",
    "(Source: https://www.projectpro.io/recipes/create-null-vector-numpy)"
   ]
  },
  {
   "cell_type": "code",
   "execution_count": null,
   "metadata": {},
   "outputs": [],
   "source": [
    "# Creating the null vector\n",
    "null_vector = np.zeros(10)\n",
    "print(null_vector)"
   ]
  },
  {
   "cell_type": "markdown",
   "metadata": {},
   "source": [
    "4(e)\n",
    "Creating a 3x3x3 array with random values.\n",
    "This is a 3d array, with three 2d arrays, i.e three 3x3 matrices.\n"
   ]
  },
  {
   "cell_type": "code",
   "execution_count": null,
   "metadata": {},
   "outputs": [],
   "source": [
    "# Creating the 3x3x3 array\n",
    "array = np.random.rand(3,3,3)\n",
    "print(array)\n",
    "# (Source: https://www.geeksforgeeks.org/numpy-random-rand-python/)"
   ]
  },
  {
   "cell_type": "markdown",
   "metadata": {},
   "source": [
    "4(f)\n",
    "Creating a 5x5 matrix with the values 1,2,3,4 just below the diagonal. \n",
    "To do this effectively, we will create a 5x5 zero (null) matrix and replace the zeros just below the diagonal with the given values. To access that diagonal we will use slicing of arrays and the numpy fill diagonally function. The principal diagonal is indexed at 0, and the diagonal in which we're interested is indexed as 1.\n",
    " "
   ]
  },
  {
   "cell_type": "code",
   "execution_count": null,
   "metadata": {},
   "outputs": [],
   "source": [
    "# Creating the null matrix\n",
    "null_matrix = np.zeros(5,5)\n",
    "# With given values along the required diagonal\n",
    "np.fill_diagonal(null_matrix[1:], [1, 2, 3, 4])\n",
    "print(null_matrix)\n",
    "# (Source: https://www.w3schools.com/python/numpy/numpy_array_slicing.asp#:~:text=Slicing%20arrays,start%3Aend%3Astep%5D%20)\n",
    "# (Source: https://stackoverflow.com/a/59415735)"
   ]
  },
  {
   "cell_type": "markdown",
   "metadata": {},
   "source": [
    "4(g)\n",
    "Normalize a 5x5 random matrix.\n",
    "To normalise a matrix is to standardise it, by adjusting the values to fit within a specific range, all while maintaining their relative relationships."
   ]
  },
  {
   "cell_type": "code",
   "execution_count": null,
   "metadata": {},
   "outputs": [],
   "source": [
    "# Creating the matrix to normalise\n",
    "matrix = np.random.rand(5,5)\n",
    "\n",
    "# Normalising the matrix\n",
    "max_matrix, min_matrix = matrix.max(), matrix.min()\n",
    "\n",
    "normalized_matrix = (matrix - min_matrix) / (max_matrix - min_matrix)\n",
    "\n",
    "print(normalized_matrix)\n",
    "# (Source: https://blog.finxter.com/how-to-normalize-a-numpy-matrix/#:~:text=In%20mathematics%2C%20normalizing%20refers%20to,or%20other%20fundamental%20matrix%20properties.)"
   ]
  },
  {
   "cell_type": "markdown",
   "metadata": {},
   "source": [
    "4(h)\n",
    "Getting dates of yesterday, today and tomorrow.\n",
    "Using python we can get today's date, we will then subtract a day from that to get yesterday's date and add a day to today's date to get tomorrow's date.\n"
   ]
  },
  {
   "cell_type": "code",
   "execution_count": null,
   "metadata": {},
   "outputs": [],
   "source": [
    "# Importing necessary toools\n",
    "from datetime import timedelta, date\n",
    "\n",
    "# Generating the dates\n",
    "today = date.today()\n",
    "\n",
    "yesterday = today - timedelta(days=1)\n",
    "tomorrow = today + timedelta(days=1)\n",
    "\n",
    "print(f\"The date for yesterday is {yesterday}, for today is {today}, and for tomorrow is {tomorrow}\")\n",
    "# (Source: https://stackoverflow.com/a/56593290)"
   ]
  },
  {
   "cell_type": "markdown",
   "metadata": {},
   "source": [
    "4(i)\n",
    "Find indicies of non-zero elements from [1, 2, 0, 0, 4, 0].\n",
    "To answer this we will be getting the position of all the non-zero elements in the list above\n",
    "(Source: https://sparkbyexamples.com/python/python-numpy-nonzero-function/#:~:text=In%20NumPy%2C%20the%20nonzero(),zero%20elements%20in%20that%20dimension.)\n"
   ]
  },
  {
   "cell_type": "code",
   "execution_count": null,
   "metadata": {},
   "outputs": [],
   "source": [
    "#creating the list as an array.\n",
    "elements = np.array([1, 2, 0, 0, 4, 0])  \n",
    "non_zero_indices = np.nonzero(elements)[0]  #The first number is accessed as 0\n",
    "\n",
    "print(non_zero_indices) \n",
    "# (Source: https://stackoverflow.com/a/6145753)"
   ]
  },
  {
   "cell_type": "code",
   "execution_count": null,
   "metadata": {},
   "outputs": [],
   "source": [
    "wages_data = pd.read_excel(\"Wages(clean).xlsx\")\n",
    "wages_df = pd.DataFrame(wages_data)\n",
    "print(wages_df)"
   ]
  },
  {
   "cell_type": "markdown",
   "metadata": {},
   "source": [
    "# Number 1\n",
    "1(a) Typical yearly income for those people.\n",
    "The 'typical' yearly income for those people will be their average (mean) income.\n",
    "\n"
   ]
  },
  {
   "cell_type": "code",
   "execution_count": null,
   "metadata": {},
   "outputs": [],
   "source": [
    "typical_income = wages_df['Income-wages'].mean()\n",
    "typical_income"
   ]
  },
  {
   "cell_type": "markdown",
   "metadata": {},
   "source": [
    "1(b) Checking wether the yearly incomes vary. We can detrmine this by obtaining the standard deviation of the yearly income."
   ]
  },
  {
   "cell_type": "code",
   "execution_count": null,
   "metadata": {},
   "outputs": [],
   "source": [
    "# Standard deviation of the income wages\n",
    "income_std = wages_df['Income-wages'].std()\n",
    "income_std"
   ]
  },
  {
   "cell_type": "markdown",
   "metadata": {},
   "source": [
    "If the standard deviation is a non_zero value, the yearly incomes of those people varies."
   ]
  },
  {
   "cell_type": "markdown",
   "metadata": {},
   "source": [
    "4(c)\n",
    "If there was no variability in the yearly income, all the values for the yearly incomes would be equal to the mean, and because there is no difference between them and the mean the, standard deviation would be zero.\n",
    "The IQR inturn becomes zero, because the upper and lower quatiles would both be equal to the mean and their difference would be zero, thus IQR also becomes zero.\n",
    "(Source:https://www.scribbr.com/statistics/interquartile-range/#:~:text=See%20an%20example,middle%20of%20your%20data%20set.) \n"
   ]
  },
  {
   "cell_type": "code",
   "execution_count": null,
   "metadata": {},
   "outputs": [],
   "source": [
    "standard_deviation = 0\n",
    "IQR = 0"
   ]
  },
  {
   "cell_type": "markdown",
   "metadata": {},
   "source": [
    "4(d)\n",
    "If there was no variability, the mean would be equal to the same income that all the people obtain.\n",
    "And the Q1, Q3, minimum and maximum yearly incomes would be equal to the mean.\n"
   ]
  },
  {
   "cell_type": "markdown",
   "metadata": {},
   "source": [
    "4(e)\n",
    "Sources of variability"
   ]
  },
  {
   "cell_type": "code",
   "execution_count": null,
   "metadata": {},
   "outputs": [],
   "source": [
    "plt.figure(figsize=(12, 6))  \n",
    "sns.boxplot(x='Education', y='Income-wages', data=wages_df)  \n",
    "plt.title('Box plot of Yearly income and education level')  \n",
    "plt.show()  \n",
    "\n",
    "plt.figure(figsize=(12, 6))  \n",
    "sns.boxplot(x='Region-recode', y='Income-wages', data=wages_df)  \n",
    "plt.title('Box plot of Yearly income and Region of the US')  \n",
    "plt.show()  \n",
    "# (Sources: 04. Intro to Matplotlib.ipynb and Mathematics math computing class practice notes)"
   ]
  },
  {
   "cell_type": "markdown",
   "metadata": {},
   "source": [
    "People with Higher education levels often earn higher income, and those living in more developed areas may earn higher incomes like in the midwest and northeast of US. Since box plots show the IQR, the larger the IQR, the greater the variability, this means that the education level of the person or the region in which he lives significantly affects his/her yearly income earnings, and vice versa."
   ]
  },
  {
   "cell_type": "code",
   "execution_count": null,
   "metadata": {},
   "outputs": [],
   "source": [
    "student_df= pd.read_csv('student_performance_data.csv')"
   ]
  },
  {
   "cell_type": "markdown",
   "metadata": {},
   "source": [
    "# Number 2\n",
    "2(a)\n",
    "For each gender the major with the most total study hours per week.\n",
    "For males, the majors are; Science and Engineering.\n",
    "For females, the majors are; Science and Engineering.\n"
   ]
  },
  {
   "cell_type": "markdown",
   "metadata": {},
   "source": [
    "2(b)\n",
    "The gender with the highest overall attendance is obtained by finding the mean of the attendance rate for each gender group.\n"
   ]
  },
  {
   "cell_type": "code",
   "execution_count": null,
   "metadata": {},
   "outputs": [],
   "source": [
    "average_attendance = student_df.groupby('Gender')['AttendanceRate'].mean()\n",
    "print(average_attendance)\n",
    "# (Source: https://www.geeksforgeeks.org/python-pandas-dataframe-groupby/\n",
    "# and the 03. Introduction to Pandas.ipynb)"
   ]
  },
  {
   "cell_type": "markdown",
   "metadata": {},
   "source": [
    "2(c)\n",
    "Percentage of students with and without part_time jobs. To address this, we get the size of each group of students (with and without part-time jobs). The length of each group shows the number of students per group. This length val#ue is multiplied by 100 and divided by the total number is students (500), to get the percentage."
   ]
  },
  {
   "cell_type": "code",
   "execution_count": null,
   "metadata": {},
   "outputs": [],
   "source": [
    "# Grouping students by partime or no partime job\n",
    "student_df.groupby('PartTimeJob').size()\n",
    "# (Source: 03. Intro to Pandas.ipynb)"
   ]
  },
  {
   "cell_type": "markdown",
   "metadata": {},
   "source": [
    "2(d)\n",
    "Mean GPA and variance of age for each gender\n",
    "To get the mean GPA for each age we will get the total of all ages for the students of that gender and divide by the total number of students of that gender.\n",
    "The Variance of age will be obtained by getting the square of the standard deviation.\n",
    " "
   ]
  },
  {
   "cell_type": "code",
   "execution_count": null,
   "metadata": {},
   "outputs": [],
   "source": [
    "# Mean GPA for each gender\n",
    "gpa_mean = student_df.groupby('Gender')['GPA'].mean()\n",
    "gpa_mean\n",
    "print(gpa_mean)\n",
    "# (Source: 03. Intro to Pandas.ipynb)"
   ]
  },
  {
   "cell_type": "code",
   "execution_count": null,
   "metadata": {},
   "outputs": [],
   "source": [
    "# Variance of age\n",
    "age_variance = student_df.groupby('Gender')['Age'].var()\n",
    "print(age_variance)\n",
    "# (Source: 03. Intro to Pandas.ipynb)"
   ]
  },
  {
   "cell_type": "markdown",
   "metadata": {},
   "source": [
    "2(e)\n",
    "Creating visualizations.\n",
    "A scatterplot between GPA and Study hours per week, to determine if study hours have an effect on a person's GPA"
   ]
  },
  {
   "cell_type": "code",
   "execution_count": null,
   "metadata": {},
   "outputs": [],
   "source": [
    "# Create a scatter plot  \n",
    "sns.scatterplot(data=student_df, x='StudyHoursPerWeek', y='GPA')  \n",
    "plt.title('Relationship between GPA and Study Hours per Week')  \n",
    "plt.xlabel('Study Hours per Week')  \n",
    "plt.ylabel('GPA')  \n",
    "plt.show()  "
   ]
  },
  {
   "cell_type": "markdown",
   "metadata": {},
   "source": [
    "# Number 3\n",
    "3(a)\n",
    "Steps involved in fitting a linear regression in Python.\n",
    "Start by importing libraries, like pandas and scikit learn.\n",
    "Import the data set to be reffered to during the linear regression, using pandas.\n",
    "Check for any missing data points, remove them if they are not target variables, or assign them values that will not change the relationships of variables already existent in the data set.\n",
    "Split the data set into testing and training sets.\n",
    "Create the linear regrssion model that can be imported from the sklearn libraries.\n",
    "The model can then be fitted with the training sets, use it to make predictions and eveluate it.\n",
    "\n",
    "(Source: LinearRegression.pdf (Muhame's notes), 06. univariate_linear_regression.ipynb)\n",
    "\n"
   ]
  },
  {
   "cell_type": "markdown",
   "metadata": {},
   "source": [
    "3(b) Assumptions taken into consideration by linear regression.\n",
    "\n",
    "(i) The relationship between the dependent and independent variables is linear.\n",
    "\n",
    "(ii) The Errors are homoscedastic.\n",
    "\n",
    "(iii) The errors of the model are normally distributed.\n",
    "\n",
    "(iv) The observations made are independent of each other.\n",
    "\n",
    "(Source: Class discussion notes for Data science lectures by Muhame.)"
   ]
  },
  {
   "cell_type": "markdown",
   "metadata": {},
   "source": [
    "3(c) \n",
    "Creating a simple linear regression model, here i'll create a univariate linear regression."
   ]
  },
  {
   "cell_type": "code",
   "execution_count": null,
   "metadata": {},
   "outputs": [],
   "source": [
    "# Creating a simple linear regression\n",
    "from sklearn.linear_model import LinearRegression  \n",
    "\n",
    "X = wages_df[['Age']]  \n",
    "y = wages_df['Income-wages']      \n",
    " \n",
    "from sklearn.model_selection import train_test_split \n",
    "\n",
    "# Splitting the data set\n",
    "X_train, X_test, y_train, y_test = train_test_split(X, y, test_size=0.2, random_state=42)  \n",
    "\n",
    "# Creating the model\n",
    "model = LinearRegression()  \n",
    " \n",
    " # Fitting the model\n",
    "model.fit(X_train, y_train)  \n",
    "\n",
    "# Generating intercepts\n",
    "intercept = model.intercept_  \n",
    "coef = model.coef_  \n",
    "\n",
    "# Equation\n",
    "Y = X(intercept) + coef\n",
    "\n",
    "# (Source: 06. univariate_linear_regression.ipynb)"
   ]
  },
  {
   "cell_type": "markdown",
   "metadata": {},
   "source": [
    "3(d)\n",
    "Computing the MSE from the model.\n",
    "\n",
    "This is determined after the model has been used to make a prediction on the test data."
   ]
  },
  {
   "cell_type": "code",
   "execution_count": null,
   "metadata": {},
   "outputs": [],
   "source": [
    "# Making a prediction\n",
    "y_pred = model.predict(X_test)\n",
    "\n",
    "# Generating the MSE\n",
    "from sklearn.metrics import mean_squared_error\n",
    "\n",
    "mse = mean_squared_error(y_test, y_pred) \n",
    "print(mse)\n",
    "\n",
    "# (Source:  06. univariate_linear_regression.ipynb)"
   ]
  },
  {
   "cell_type": "markdown",
   "metadata": {},
   "source": [
    "3(e) Key outputs from the linear regression model:"
   ]
  },
  {
   "cell_type": "code",
   "execution_count": null,
   "metadata": {},
   "outputs": [],
   "source": [
    "print(f\"The intercept is: {intercept}\")\n",
    "print(f\"The coefficient is: {coef}\")\n",
    "print(f\"The equation of the equation of the trained linear regression is: \\n Y = {Y}\")"
   ]
  },
  {
   "cell_type": "markdown",
   "metadata": {},
   "source": [
    "From the outputs;\n",
    "The intercept shows the expected mean value of y when the X = 0\n",
    "\n",
    "The coefficient indicates how much the independent variable changes for each unit of the target variable.\n",
    "\n",
    "The equation of the trained linear regression shows the relationship between the varaibles and the significance and directio of this relationship.\n",
    "\n",
    "(Source: Class discussion notes for Data science lectures by Muhame.)"
   ]
  },
  {
   "cell_type": "markdown",
   "metadata": {},
   "source": [
    "3(f)\n",
    "Plotting the linear regression model. To visualise its efficiency in making predictions, and the difference between the actual values and the predicted values."
   ]
  },
  {
   "cell_type": "code",
   "execution_count": null,
   "metadata": {},
   "outputs": [],
   "source": [
    "plt.scatter(X_train, y_train, color='purple', label='Data Points')  \n",
    "plt.scatter(X_test, y_pred, color='black', label='Predicted Points')  \n",
    "plt.plot(X_test, y_pred, color='orange',  linewidth=2, label='Regression Line')  \n",
    "plt.title('Simple Linear Regression')  \n",
    "plt.xlabel('Age')  \n",
    "plt.ylabel('Income wages')  \n",
    "plt.legend()  \n",
    "plt.show()\n",
    "# (Source:  06. univariate_linear_regression.ipynb)"
   ]
  }
 ],
 "metadata": {
  "kernelspec": {
   "display_name": "base",
   "language": "python",
   "name": "python3"
  },
  "language_info": {
   "codemirror_mode": {
    "name": "ipython",
    "version": 3
   },
   "file_extension": ".py",
   "mimetype": "text/x-python",
   "name": "python",
   "nbconvert_exporter": "python",
   "pygments_lexer": "ipython3",
   "version": "3.12.7"
  }
 },
 "nbformat": 4,
 "nbformat_minor": 2
}
